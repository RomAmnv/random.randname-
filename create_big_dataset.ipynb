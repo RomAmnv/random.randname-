{
 "cells": [
  {
   "cell_type": "code",
   "execution_count": 17,
   "metadata": {},
   "outputs": [
    {
     "data": {
      "text/html": [
       "<div>\n",
       "<style scoped>\n",
       "    .dataframe tbody tr th:only-of-type {\n",
       "        vertical-align: middle;\n",
       "    }\n",
       "\n",
       "    .dataframe tbody tr th {\n",
       "        vertical-align: top;\n",
       "    }\n",
       "\n",
       "    .dataframe thead th {\n",
       "        text-align: right;\n",
       "    }\n",
       "</style>\n",
       "<table border=\"1\" class=\"dataframe\">\n",
       "  <thead>\n",
       "    <tr style=\"text-align: right;\">\n",
       "      <th></th>\n",
       "      <th>Reviews</th>\n",
       "    </tr>\n",
       "  </thead>\n",
       "  <tbody>\n",
       "    <tr>\n",
       "      <th>0</th>\n",
       "      <td>Лучший курс для подготовки к ЕГЭ по математике...</td>\n",
       "    </tr>\n",
       "    <tr>\n",
       "      <th>1</th>\n",
       "      <td>Самый лучший курс по профильной математике! Ог...</td>\n",
       "    </tr>\n",
       "    <tr>\n",
       "      <th>2</th>\n",
       "      <td>Замечательный курс для тех, кто хочет самостоя...</td>\n",
       "    </tr>\n",
       "    <tr>\n",
       "      <th>3</th>\n",
       "      <td>Замечательный курс от не менее замечательного ...</td>\n",
       "    </tr>\n",
       "    <tr>\n",
       "      <th>4</th>\n",
       "      <td>Лучший курс GOD OF MATH</td>\n",
       "    </tr>\n",
       "  </tbody>\n",
       "</table>\n",
       "</div>"
      ],
      "text/plain": [
       "                                             Reviews\n",
       "0  Лучший курс для подготовки к ЕГЭ по математике...\n",
       "1  Самый лучший курс по профильной математике! Ог...\n",
       "2  Замечательный курс для тех, кто хочет самостоя...\n",
       "3  Замечательный курс от не менее замечательного ...\n",
       "4                            Лучший курс GOD OF MATH"
      ]
     },
     "execution_count": 17,
     "metadata": {},
     "output_type": "execute_result"
    }
   ],
   "source": [
    "import pandas as pd\n",
    "\n",
    "data = pd.read_csv(\"moocs_stem_reviews.csv\")\n",
    "\n",
    "data.drop(columns=['Unnamed: 1'], inplace=True)\n",
    "data = data.dropna()\n",
    "data['Reviews'] = data['Reviews'].astype(str)\n",
    "data.head()"
   ]
  },
  {
   "cell_type": "code",
   "execution_count": 18,
   "metadata": {},
   "outputs": [
    {
     "name": "stdout",
     "output_type": "stream",
     "text": [
      "Лучший курс для подготовки к ЕГЭ по математике с отличным учителем ever Учёба с Тимуром = СОТОЧКА баллов за экзамен + отлично проведённое время\n",
      "[0.02235311 0.9776469 ]\n"
     ]
    },
    {
     "name": "stderr",
     "output_type": "stream",
     "text": [
      "Processing: 100%|██████████| 5719/5719 [05:26<00:00, 17.53it/s]\n"
     ]
    }
   ],
   "source": [
    "import torch\n",
    "import numpy as np\n",
    "from transformers import AutoTokenizer, AutoModelForSequenceClassification\n",
    "from tqdm import tqdm\n",
    "\n",
    "model_checkpoint = 'cointegrated/rubert-base-cased-nli-threeway'\n",
    "tokenizer = AutoTokenizer.from_pretrained(model_checkpoint)\n",
    "model = AutoModelForSequenceClassification.from_pretrained(model_checkpoint)\n",
    "if torch.cuda.is_available():\n",
    "    model.cuda()\n",
    "    \n",
    "def predict_zero_shot(text, label_texts, model, tokenizer, label='entailment', normalize=True):\n",
    "    label_texts\n",
    "    tokens = tokenizer([text] * len(label_texts), label_texts, truncation=True, return_tensors='pt', padding=True)\n",
    "    with torch.inference_mode():\n",
    "        result = torch.softmax(model(**tokens.to(model.device)).logits, -1)\n",
    "    proba = result[:, model.config.label2id[label]].cpu().numpy()\n",
    "    if normalize:\n",
    "        proba /= sum(proba)\n",
    "    return proba\n",
    "\n",
    "print(data['Reviews'].to_list()[0])\n",
    "classes = ['Неинформативный', 'Информативный']\n",
    "print(predict_zero_shot(data['Reviews'].to_list()[0], classes, model, tokenizer))\n",
    "\n",
    "tqdm.pandas(desc=\"Processing\")\n",
    "data['is_relevant'] = data['Reviews'].progress_apply(lambda x: np.array(predict_zero_shot(x, classes, model, tokenizer)).argmax())\n",
    "data['is_relevant'] = data['is_relevant'].astype(int)"
   ]
  },
  {
   "cell_type": "code",
   "execution_count": 19,
   "metadata": {},
   "outputs": [],
   "source": [
    "file_path = 'extract_relevant.csv'\n",
    "\n",
    "# Сохраняем DataFrame в CSV файл\n",
    "data.to_csv(file_path, index=False)"
   ]
  },
  {
   "cell_type": "code",
   "execution_count": 21,
   "metadata": {},
   "outputs": [
    {
     "name": "stdout",
     "output_type": "stream",
     "text": [
      "Лучший курс для подготовки к ЕГЭ по математике с отличным учителем ever Учёба с Тимуром = СОТОЧКА баллов за экзамен + отлично проведённое время\n",
      "[0.01083749 0.98916256]\n"
     ]
    },
    {
     "name": "stderr",
     "output_type": "stream",
     "text": [
      "Processing: 100%|██████████| 5719/5719 [04:52<00:00, 19.56it/s]\n"
     ]
    }
   ],
   "source": [
    "import torch\n",
    "import numpy as np\n",
    "from transformers import AutoTokenizer, AutoModelForSequenceClassification\n",
    "from tqdm import tqdm\n",
    "\n",
    "model_checkpoint = 'cointegrated/rubert-base-cased-nli-threeway'\n",
    "tokenizer = AutoTokenizer.from_pretrained(model_checkpoint)\n",
    "model = AutoModelForSequenceClassification.from_pretrained(model_checkpoint)\n",
    "if torch.cuda.is_available():\n",
    "    model.cuda()\n",
    "    \n",
    "def predict_zero_shot(text, label_texts, model, tokenizer, label='entailment', normalize=True):\n",
    "    label_texts\n",
    "    tokens = tokenizer([text] * len(label_texts), label_texts, truncation=True, return_tensors='pt', padding=True)\n",
    "    with torch.inference_mode():\n",
    "        result = torch.softmax(model(**tokens.to(model.device)).logits, -1)\n",
    "    proba = result[:, model.config.label2id[label]].cpu().numpy()\n",
    "    if normalize:\n",
    "        proba /= sum(proba)\n",
    "    return proba\n",
    "\n",
    "print(data['Reviews'].to_list()[0])\n",
    "classes = ['Негативный', 'Позитивный']\n",
    "print(predict_zero_shot(data['Reviews'].to_list()[0], classes, model, tokenizer))\n",
    "\n",
    "tqdm.pandas(desc=\"Processing\")\n",
    "data['is_positive'] = data['Reviews'].progress_apply(lambda x: np.array(predict_zero_shot(x, classes, model, tokenizer)).argmax())\n",
    "data['is_positive'] = data['is_positive'].astype(int)"
   ]
  },
  {
   "cell_type": "code",
   "execution_count": 22,
   "metadata": {},
   "outputs": [],
   "source": [
    "file_path = 'extract_positive_and_relevant.csv'\n",
    "\n",
    "# Сохраняем DataFrame в CSV файл\n",
    "data.to_csv(file_path, index=False)"
   ]
  },
  {
   "cell_type": "code",
   "execution_count": 23,
   "metadata": {},
   "outputs": [
    {
     "name": "stdout",
     "output_type": "stream",
     "text": [
      "<class 'pandas.core.frame.DataFrame'>\n",
      "Index: 5719 entries, 0 to 5720\n",
      "Data columns (total 3 columns):\n",
      " #   Column       Non-Null Count  Dtype \n",
      "---  ------       --------------  ----- \n",
      " 0   Reviews      5719 non-null   object\n",
      " 1   is_relevant  5719 non-null   int64 \n",
      " 2   is_positive  5719 non-null   int64 \n",
      "dtypes: int64(2), object(1)\n",
      "memory usage: 178.7+ KB\n"
     ]
    }
   ],
   "source": [
    "data.info()"
   ]
  },
  {
   "cell_type": "code",
   "execution_count": 24,
   "metadata": {},
   "outputs": [
    {
     "data": {
      "text/html": [
       "<div>\n",
       "<style scoped>\n",
       "    .dataframe tbody tr th:only-of-type {\n",
       "        vertical-align: middle;\n",
       "    }\n",
       "\n",
       "    .dataframe tbody tr th {\n",
       "        vertical-align: top;\n",
       "    }\n",
       "\n",
       "    .dataframe thead th {\n",
       "        text-align: right;\n",
       "    }\n",
       "</style>\n",
       "<table border=\"1\" class=\"dataframe\">\n",
       "  <thead>\n",
       "    <tr style=\"text-align: right;\">\n",
       "      <th></th>\n",
       "      <th>Reviews</th>\n",
       "      <th>is_relevant</th>\n",
       "      <th>is_positive</th>\n",
       "    </tr>\n",
       "  </thead>\n",
       "  <tbody>\n",
       "    <tr>\n",
       "      <th>0</th>\n",
       "      <td>Лучший курс для подготовки к ЕГЭ по математике...</td>\n",
       "      <td>1</td>\n",
       "      <td>1</td>\n",
       "    </tr>\n",
       "    <tr>\n",
       "      <th>1</th>\n",
       "      <td>Самый лучший курс по профильной математике! Ог...</td>\n",
       "      <td>1</td>\n",
       "      <td>1</td>\n",
       "    </tr>\n",
       "    <tr>\n",
       "      <th>2</th>\n",
       "      <td>Замечательный курс для тех, кто хочет самостоя...</td>\n",
       "      <td>1</td>\n",
       "      <td>1</td>\n",
       "    </tr>\n",
       "    <tr>\n",
       "      <th>3</th>\n",
       "      <td>Замечательный курс от не менее замечательного ...</td>\n",
       "      <td>1</td>\n",
       "      <td>1</td>\n",
       "    </tr>\n",
       "    <tr>\n",
       "      <th>4</th>\n",
       "      <td>Лучший курс GOD OF MATH</td>\n",
       "      <td>1</td>\n",
       "      <td>1</td>\n",
       "    </tr>\n",
       "  </tbody>\n",
       "</table>\n",
       "</div>"
      ],
      "text/plain": [
       "                                             Reviews  is_relevant  is_positive\n",
       "0  Лучший курс для подготовки к ЕГЭ по математике...            1            1\n",
       "1  Самый лучший курс по профильной математике! Ог...            1            1\n",
       "2  Замечательный курс для тех, кто хочет самостоя...            1            1\n",
       "3  Замечательный курс от не менее замечательного ...            1            1\n",
       "4                            Лучший курс GOD OF MATH            1            1"
      ]
     },
     "execution_count": 24,
     "metadata": {},
     "output_type": "execute_result"
    }
   ],
   "source": [
    "data.head()"
   ]
  },
  {
   "cell_type": "code",
   "execution_count": 25,
   "metadata": {},
   "outputs": [
    {
     "data": {
      "text/plain": [
       "is_relevant\n",
       "1    5416\n",
       "0     303\n",
       "Name: count, dtype: int64"
      ]
     },
     "execution_count": 25,
     "metadata": {},
     "output_type": "execute_result"
    }
   ],
   "source": [
    "data['is_relevant'].value_counts()"
   ]
  },
  {
   "cell_type": "code",
   "execution_count": 27,
   "metadata": {},
   "outputs": [
    {
     "data": {
      "text/plain": [
       "is_positive\n",
       "1    5130\n",
       "0     589\n",
       "Name: count, dtype: int64"
      ]
     },
     "execution_count": 27,
     "metadata": {},
     "output_type": "execute_result"
    }
   ],
   "source": [
    "data['is_positive'].value_counts()"
   ]
  },
  {
   "cell_type": "code",
   "execution_count": 31,
   "metadata": {},
   "outputs": [
    {
     "name": "stdout",
     "output_type": "stream",
     "text": [
      "<class 'pandas.core.frame.DataFrame'>\n",
      "RangeIndex: 5719 entries, 0 to 5718\n",
      "Data columns (total 2 columns):\n",
      " #   Column   Non-Null Count  Dtype \n",
      "---  ------   --------------  ----- \n",
      " 0   Reviews  5719 non-null   object\n",
      " 1   object   5719 non-null   int64 \n",
      "dtypes: int64(1), object(1)\n",
      "memory usage: 89.5+ KB\n"
     ]
    }
   ],
   "source": [
    "object_data = pd.read_csv(\"extract_object.csv\")\n",
    "object_data.info()"
   ]
  },
  {
   "cell_type": "code",
   "execution_count": 32,
   "metadata": {},
   "outputs": [],
   "source": [
    "object_data = pd.read_csv(\"extract_object.csv\")\n",
    "\n",
    "data['object'] = object_data['object'].astype(int)\n",
    "file_path = 'stepik_data.csv'\n",
    "\n",
    "# Сохраняем DataFrame в CSV файл\n",
    "data.to_csv(file_path, index=False)"
   ]
  },
  {
   "cell_type": "code",
   "execution_count": 33,
   "metadata": {},
   "outputs": [
    {
     "name": "stdout",
     "output_type": "stream",
     "text": [
      "<class 'pandas.core.series.Series'>\n",
      "Index: 5719 entries, 0 to 5720\n",
      "Series name: object\n",
      "Non-Null Count  Dtype  \n",
      "--------------  -----  \n",
      "5717 non-null   float64\n",
      "dtypes: float64(1)\n",
      "memory usage: 89.4 KB\n"
     ]
    }
   ],
   "source": [
    "data['object'].info()"
   ]
  },
  {
   "cell_type": "code",
   "execution_count": 34,
   "metadata": {},
   "outputs": [
    {
     "data": {
      "text/html": [
       "<div>\n",
       "<style scoped>\n",
       "    .dataframe tbody tr th:only-of-type {\n",
       "        vertical-align: middle;\n",
       "    }\n",
       "\n",
       "    .dataframe tbody tr th {\n",
       "        vertical-align: top;\n",
       "    }\n",
       "\n",
       "    .dataframe thead th {\n",
       "        text-align: right;\n",
       "    }\n",
       "</style>\n",
       "<table border=\"1\" class=\"dataframe\">\n",
       "  <thead>\n",
       "    <tr style=\"text-align: right;\">\n",
       "      <th></th>\n",
       "      <th>Reviews</th>\n",
       "      <th>is_relevant</th>\n",
       "      <th>is_positive</th>\n",
       "      <th>object</th>\n",
       "    </tr>\n",
       "  </thead>\n",
       "  <tbody>\n",
       "    <tr>\n",
       "      <th>0</th>\n",
       "      <td>Лучший курс для подготовки к ЕГЭ по математике...</td>\n",
       "      <td>1</td>\n",
       "      <td>1</td>\n",
       "      <td>1.0</td>\n",
       "    </tr>\n",
       "    <tr>\n",
       "      <th>1</th>\n",
       "      <td>Самый лучший курс по профильной математике! Ог...</td>\n",
       "      <td>1</td>\n",
       "      <td>1</td>\n",
       "      <td>1.0</td>\n",
       "    </tr>\n",
       "    <tr>\n",
       "      <th>2</th>\n",
       "      <td>Замечательный курс для тех, кто хочет самостоя...</td>\n",
       "      <td>1</td>\n",
       "      <td>1</td>\n",
       "      <td>1.0</td>\n",
       "    </tr>\n",
       "    <tr>\n",
       "      <th>3</th>\n",
       "      <td>Замечательный курс от не менее замечательного ...</td>\n",
       "      <td>1</td>\n",
       "      <td>1</td>\n",
       "      <td>2.0</td>\n",
       "    </tr>\n",
       "    <tr>\n",
       "      <th>4</th>\n",
       "      <td>Лучший курс GOD OF MATH</td>\n",
       "      <td>1</td>\n",
       "      <td>1</td>\n",
       "      <td>1.0</td>\n",
       "    </tr>\n",
       "  </tbody>\n",
       "</table>\n",
       "</div>"
      ],
      "text/plain": [
       "                                             Reviews  is_relevant  \\\n",
       "0  Лучший курс для подготовки к ЕГЭ по математике...            1   \n",
       "1  Самый лучший курс по профильной математике! Ог...            1   \n",
       "2  Замечательный курс для тех, кто хочет самостоя...            1   \n",
       "3  Замечательный курс от не менее замечательного ...            1   \n",
       "4                            Лучший курс GOD OF MATH            1   \n",
       "\n",
       "   is_positive  object  \n",
       "0            1     1.0  \n",
       "1            1     1.0  \n",
       "2            1     1.0  \n",
       "3            1     2.0  \n",
       "4            1     1.0  "
      ]
     },
     "execution_count": 34,
     "metadata": {},
     "output_type": "execute_result"
    }
   ],
   "source": [
    "data.head()"
   ]
  },
  {
   "cell_type": "code",
   "execution_count": 39,
   "metadata": {},
   "outputs": [],
   "source": [
    "data['object'] = data['object'].fillna(1)"
   ]
  },
  {
   "cell_type": "code",
   "execution_count": 40,
   "metadata": {},
   "outputs": [
    {
     "data": {
      "text/plain": [
       "array([1., 2., 0.])"
      ]
     },
     "execution_count": 40,
     "metadata": {},
     "output_type": "execute_result"
    }
   ],
   "source": [
    "data['object'].unique()"
   ]
  },
  {
   "cell_type": "code",
   "execution_count": 41,
   "metadata": {},
   "outputs": [],
   "source": [
    "data['object'] = data['object'].astype(int)"
   ]
  },
  {
   "cell_type": "code",
   "execution_count": 42,
   "metadata": {},
   "outputs": [],
   "source": [
    "file_path = 'stepik_data.csv'\n",
    "\n",
    "# Сохраняем DataFrame в CSV файл\n",
    "data.to_csv(file_path, index=False)"
   ]
  },
  {
   "cell_type": "code",
   "execution_count": 47,
   "metadata": {},
   "outputs": [
    {
     "data": {
      "text/html": [
       "<div>\n",
       "<style scoped>\n",
       "    .dataframe tbody tr th:only-of-type {\n",
       "        vertical-align: middle;\n",
       "    }\n",
       "\n",
       "    .dataframe tbody tr th {\n",
       "        vertical-align: top;\n",
       "    }\n",
       "\n",
       "    .dataframe thead th {\n",
       "        text-align: right;\n",
       "    }\n",
       "</style>\n",
       "<table border=\"1\" class=\"dataframe\">\n",
       "  <thead>\n",
       "    <tr style=\"text-align: right;\">\n",
       "      <th></th>\n",
       "      <th>Reviews</th>\n",
       "      <th>is_relevant</th>\n",
       "      <th>is_positive</th>\n",
       "      <th>object</th>\n",
       "    </tr>\n",
       "  </thead>\n",
       "  <tbody>\n",
       "    <tr>\n",
       "      <th>5714</th>\n",
       "      <td>доступно и понятно все</td>\n",
       "      <td>1</td>\n",
       "      <td>1</td>\n",
       "      <td>1</td>\n",
       "    </tr>\n",
       "    <tr>\n",
       "      <th>5715</th>\n",
       "      <td>шикарнейший курс, во многом помог подготовитьс...</td>\n",
       "      <td>1</td>\n",
       "      <td>1</td>\n",
       "      <td>1</td>\n",
       "    </tr>\n",
       "    <tr>\n",
       "      <th>5716</th>\n",
       "      <td>Курс хороший, но есть местами недочеты.</td>\n",
       "      <td>0</td>\n",
       "      <td>0</td>\n",
       "      <td>1</td>\n",
       "    </tr>\n",
       "    <tr>\n",
       "      <th>5717</th>\n",
       "      <td>хороший курс</td>\n",
       "      <td>1</td>\n",
       "      <td>1</td>\n",
       "      <td>1</td>\n",
       "    </tr>\n",
       "    <tr>\n",
       "      <th>5718</th>\n",
       "      <td>👍🏻👍🏻👍🏻</td>\n",
       "      <td>1</td>\n",
       "      <td>1</td>\n",
       "      <td>1</td>\n",
       "    </tr>\n",
       "  </tbody>\n",
       "</table>\n",
       "</div>"
      ],
      "text/plain": [
       "                                                Reviews  is_relevant  \\\n",
       "5714                             доступно и понятно все            1   \n",
       "5715  шикарнейший курс, во многом помог подготовитьс...            1   \n",
       "5716            Курс хороший, но есть местами недочеты.            0   \n",
       "5717                                       хороший курс            1   \n",
       "5718                                             👍🏻👍🏻👍🏻            1   \n",
       "\n",
       "      is_positive  object  \n",
       "5714            1       1  \n",
       "5715            1       1  \n",
       "5716            0       1  \n",
       "5717            1       1  \n",
       "5718            1       1  "
      ]
     },
     "execution_count": 47,
     "metadata": {},
     "output_type": "execute_result"
    }
   ],
   "source": [
    "data = pd.read_csv(\"stepik_data.csv\")\n",
    "data.tail()"
   ]
  },
  {
   "cell_type": "code",
   "execution_count": 48,
   "metadata": {},
   "outputs": [
    {
     "data": {
      "text/html": [
       "<div>\n",
       "<style scoped>\n",
       "    .dataframe tbody tr th:only-of-type {\n",
       "        vertical-align: middle;\n",
       "    }\n",
       "\n",
       "    .dataframe tbody tr th {\n",
       "        vertical-align: top;\n",
       "    }\n",
       "\n",
       "    .dataframe thead th {\n",
       "        text-align: right;\n",
       "    }\n",
       "</style>\n",
       "<table border=\"1\" class=\"dataframe\">\n",
       "  <thead>\n",
       "    <tr style=\"text-align: right;\">\n",
       "      <th></th>\n",
       "      <th>Reviews</th>\n",
       "      <th>is_relevant</th>\n",
       "      <th>is_positive</th>\n",
       "      <th>object</th>\n",
       "    </tr>\n",
       "  </thead>\n",
       "  <tbody>\n",
       "    <tr>\n",
       "      <th>5714</th>\n",
       "      <td>доступно и понятно все</td>\n",
       "      <td>0</td>\n",
       "      <td>1</td>\n",
       "      <td>1</td>\n",
       "    </tr>\n",
       "    <tr>\n",
       "      <th>5715</th>\n",
       "      <td>шикарнейший курс, во многом помог подготовитьс...</td>\n",
       "      <td>1</td>\n",
       "      <td>1</td>\n",
       "      <td>1</td>\n",
       "    </tr>\n",
       "    <tr>\n",
       "      <th>5716</th>\n",
       "      <td>Курс хороший, но есть местами недочеты.</td>\n",
       "      <td>0</td>\n",
       "      <td>0</td>\n",
       "      <td>1</td>\n",
       "    </tr>\n",
       "    <tr>\n",
       "      <th>5717</th>\n",
       "      <td>хороший курс</td>\n",
       "      <td>0</td>\n",
       "      <td>1</td>\n",
       "      <td>1</td>\n",
       "    </tr>\n",
       "    <tr>\n",
       "      <th>5718</th>\n",
       "      <td>👍🏻👍🏻👍🏻</td>\n",
       "      <td>0</td>\n",
       "      <td>1</td>\n",
       "      <td>1</td>\n",
       "    </tr>\n",
       "  </tbody>\n",
       "</table>\n",
       "</div>"
      ],
      "text/plain": [
       "                                                Reviews  is_relevant  \\\n",
       "5714                             доступно и понятно все            0   \n",
       "5715  шикарнейший курс, во многом помог подготовитьс...            1   \n",
       "5716            Курс хороший, но есть местами недочеты.            0   \n",
       "5717                                       хороший курс            0   \n",
       "5718                                             👍🏻👍🏻👍🏻            0   \n",
       "\n",
       "      is_positive  object  \n",
       "5714            1       1  \n",
       "5715            1       1  \n",
       "5716            0       1  \n",
       "5717            1       1  \n",
       "5718            1       1  "
      ]
     },
     "execution_count": 48,
     "metadata": {},
     "output_type": "execute_result"
    }
   ],
   "source": [
    "data['is_relevant'] = data['is_relevant'] * data['Reviews'].apply(lambda x: len(x.split()) > 8)\n",
    "data.tail()"
   ]
  },
  {
   "cell_type": "code",
   "execution_count": 49,
   "metadata": {},
   "outputs": [
    {
     "data": {
      "text/plain": [
       "is_relevant\n",
       "1    3096\n",
       "0    2623\n",
       "Name: count, dtype: int64"
      ]
     },
     "execution_count": 49,
     "metadata": {},
     "output_type": "execute_result"
    }
   ],
   "source": [
    "data['is_relevant'].value_counts()"
   ]
  },
  {
   "cell_type": "code",
   "execution_count": 50,
   "metadata": {},
   "outputs": [],
   "source": [
    "file_path = 'stepik_data.csv'\n",
    "\n",
    "# Сохраняем DataFrame в CSV файл\n",
    "data.to_csv(file_path, index=False)"
   ]
  },
  {
   "cell_type": "markdown",
   "metadata": {},
   "source": [
    "# Балансируем объекты и негативные отзывы"
   ]
  }
 ],
 "metadata": {
  "kernelspec": {
   "display_name": ".venv",
   "language": "python",
   "name": "python3"
  },
  "language_info": {
   "codemirror_mode": {
    "name": "ipython",
    "version": 3
   },
   "file_extension": ".py",
   "mimetype": "text/x-python",
   "name": "python",
   "nbconvert_exporter": "python",
   "pygments_lexer": "ipython3",
   "version": "3.9.6"
  }
 },
 "nbformat": 4,
 "nbformat_minor": 2
}
